{
 "cells": [
  {
   "cell_type": "markdown",
   "id": "02b1ffc7",
   "metadata": {},
   "source": [
    "# First Part (The Proposal)\n",
    "\n",
    "## Proposal for Showing the Value of Machine Learning Model for Salary Prediction:\n",
    "\n",
    "### Problem and Market Size: \n",
    "\n",
    "Our machine learning application solves the problem of accurately predicting salaries based on various factors such as education level, work experience, job title, industry, location, etc. It can help both employers and employees make informed decisions about salary negotiations and job offers. The potential and prospects for this product are remarkable, as accurate salary predictions are crucial for companies to attract and retain talent, and for individuals to make informed career decisions.\n",
    "\n",
    "The market size for this product is significant, as it can be used by businesses and organizations of all sizes in various industries. According to our research, the global market for talent management software in 2023 is projected to grow from USD 7.93 billion in 2022 to USD 9.82 billion by 2028, at a CAGR of 12.1%12. The market growth is driven by the increasing demand for talent management solutions across various industries, the rising adoption of cloud-based and web-based applications, and the growing popularity of social media platforms. The market is segmented by solution, deployment mode, organization size, industry vertical, and region. North America is expected to hold a substantial market share, while Asia Pacific is expected to witness a high growth rate12. Some of the key players in the market are IBM Corp., Oracle Corp., SAP SE, Peoplefluent Inc., CornerStone OnDemand Inc., and others. (reference: Talent Management Software Market Size, Growth, Analysis 2023-2028 (expertmarketresearch.com))\n",
    " \n",
    "### Results and comparison with other models using Performance Metrics:\n",
    "\n",
    "We trained and evaluated our machine learning model for salary prediction using various metrics and techniques. Our model - (Random Forest) was trained on our dataset and achieved a high accuracy of 89.01% using metrics such as R-squared (Coefficient of determination) and RSME (root mean squared error). This outperformed the regression models such as SVC (Support Vector Classifier) and Decision Tree Classifier, respectively. Thus, our machine learning approach offers a robust and reliable solution for accurate salary prediction.\n",
    "\n",
    "### Monetary Value and Risks:\n",
    "\n",
    "The monetary value of our application is significant, as it can help businesses save costs by providing accurate salary predictions. For example, if a company has 100 employees and our model can save 5% of their salary costs, this will result in savings of approximately $50,000 per year. If our model is used to negotiate salaries, it can also result in better retention of employees, which can save costs associated with recruiting and training new employees.\n",
    "\n",
    "The risks associated with our application are minimal, as the accuracy of our predictions has been validated through rigorous testing and comparison with other models. However, there is a risk that the predictions may not always be accurate due to factors such as incomplete or inaccurate data inputs, changes in market conditions, or unforeseen events such as economic downturns.\n",
    "\n",
    "### Other Risks and Benefits: \n",
    "\n",
    "The benefits of our machine learning application go beyond just salary prediction. It can also help companies with workforce planning and optimization by identifying skill gaps and predicting employee turnover. Additionally, it can help job seekers by providing insights into the job market and which industries and locations offer the best salary opportunities. \n",
    "\n",
    "Other benefits of our model include its scalability and availability, as it can be deployed as a web application or API and can be accessed by businesses and organizations from anywhere in the world. Additionally, our model can be updated periodically to ensure its accuracy and reliability.\n",
    "\n",
    "The risks associated with our model include the risk of data privacy and security, as the model requires access to sensitive employee data. It is important to implement appropriate security measures to protect the data and ensure compliance with data privacy regulations.\n"
   ]
  },
  {
   "cell_type": "markdown",
   "id": "84464917",
   "metadata": {},
   "source": [
    "# Second Part (Coding Part)\n",
    "\n",
    "## the implementation of the application "
   ]
  },
  {
   "cell_type": "code",
   "execution_count": 2,
   "id": "992070a9",
   "metadata": {},
   "outputs": [],
   "source": [
    "import pandas as pd\n",
    "import matplotlib.pyplot as plt\n",
    "%matplotlib inline\n",
    "import numpy as np\n",
    "import seaborn as sns\n",
    "import warnings\n",
    "warnings.filterwarnings('ignore')"
   ]
  },
  {
   "cell_type": "markdown",
   "id": "cc4fc76c",
   "metadata": {},
   "source": [
    "### \"Importing Salary Dataset using Pandas in Python\""
   ]
  },
  {
   "cell_type": "code",
   "execution_count": 3,
   "id": "f3e9193a",
   "metadata": {},
   "outputs": [],
   "source": [
    "df =  pd.read_csv(\"C:/Users/parth/Desktop/SalaryDataset_Athul_Parth.csv\")"
   ]
  },
  {
   "cell_type": "markdown",
   "id": "292d5fc2",
   "metadata": {},
   "source": [
    "### \"Python Code for Previewing Data: Using 'head' Function to Display Initial Rows of a DataFrame (df)\""
   ]
  },
  {
   "cell_type": "code",
   "execution_count": 4,
   "id": "41b395e7",
   "metadata": {},
   "outputs": [
    {
     "data": {
      "text/html": [
       "<div>\n",
       "<style scoped>\n",
       "    .dataframe tbody tr th:only-of-type {\n",
       "        vertical-align: middle;\n",
       "    }\n",
       "\n",
       "    .dataframe tbody tr th {\n",
       "        vertical-align: top;\n",
       "    }\n",
       "\n",
       "    .dataframe thead th {\n",
       "        text-align: right;\n",
       "    }\n",
       "</style>\n",
       "<table border=\"1\" class=\"dataframe\">\n",
       "  <thead>\n",
       "    <tr style=\"text-align: right;\">\n",
       "      <th></th>\n",
       "      <th>Age</th>\n",
       "      <th>Gender</th>\n",
       "      <th>Education Level</th>\n",
       "      <th>Job Title</th>\n",
       "      <th>Years of Experience</th>\n",
       "      <th>Salary</th>\n",
       "    </tr>\n",
       "  </thead>\n",
       "  <tbody>\n",
       "    <tr>\n",
       "      <th>0</th>\n",
       "      <td>32.0</td>\n",
       "      <td>Male</td>\n",
       "      <td>Bachelor's</td>\n",
       "      <td>Software Engineer</td>\n",
       "      <td>5.0</td>\n",
       "      <td>90000.0</td>\n",
       "    </tr>\n",
       "    <tr>\n",
       "      <th>1</th>\n",
       "      <td>28.0</td>\n",
       "      <td>Female</td>\n",
       "      <td>Master's</td>\n",
       "      <td>Data Analyst</td>\n",
       "      <td>3.0</td>\n",
       "      <td>65000.0</td>\n",
       "    </tr>\n",
       "    <tr>\n",
       "      <th>2</th>\n",
       "      <td>45.0</td>\n",
       "      <td>Male</td>\n",
       "      <td>PhD</td>\n",
       "      <td>Senior Manager</td>\n",
       "      <td>15.0</td>\n",
       "      <td>150000.0</td>\n",
       "    </tr>\n",
       "    <tr>\n",
       "      <th>3</th>\n",
       "      <td>36.0</td>\n",
       "      <td>Female</td>\n",
       "      <td>Bachelor's</td>\n",
       "      <td>Sales Associate</td>\n",
       "      <td>7.0</td>\n",
       "      <td>60000.0</td>\n",
       "    </tr>\n",
       "    <tr>\n",
       "      <th>4</th>\n",
       "      <td>52.0</td>\n",
       "      <td>Male</td>\n",
       "      <td>Master's</td>\n",
       "      <td>Director</td>\n",
       "      <td>20.0</td>\n",
       "      <td>200000.0</td>\n",
       "    </tr>\n",
       "  </tbody>\n",
       "</table>\n",
       "</div>"
      ],
      "text/plain": [
       "    Age  Gender Education Level          Job Title  Years of Experience  \\\n",
       "0  32.0    Male      Bachelor's  Software Engineer                  5.0   \n",
       "1  28.0  Female        Master's       Data Analyst                  3.0   \n",
       "2  45.0    Male             PhD     Senior Manager                 15.0   \n",
       "3  36.0  Female      Bachelor's    Sales Associate                  7.0   \n",
       "4  52.0    Male        Master's           Director                 20.0   \n",
       "\n",
       "     Salary  \n",
       "0   90000.0  \n",
       "1   65000.0  \n",
       "2  150000.0  \n",
       "3   60000.0  \n",
       "4  200000.0  "
      ]
     },
     "execution_count": 4,
     "metadata": {},
     "output_type": "execute_result"
    }
   ],
   "source": [
    "df.head()"
   ]
  },
  {
   "cell_type": "markdown",
   "id": "9a635622",
   "metadata": {},
   "source": [
    "### \"Python Code for Summarizing Data: Using 'info' Function to Get Information about DataFrame (df) Structure and Content\""
   ]
  },
  {
   "cell_type": "code",
   "execution_count": 5,
   "id": "bc178367",
   "metadata": {},
   "outputs": [
    {
     "name": "stdout",
     "output_type": "stream",
     "text": [
      "<class 'pandas.core.frame.DataFrame'>\n",
      "RangeIndex: 375 entries, 0 to 374\n",
      "Data columns (total 6 columns):\n",
      " #   Column               Non-Null Count  Dtype  \n",
      "---  ------               --------------  -----  \n",
      " 0   Age                  373 non-null    float64\n",
      " 1   Gender               373 non-null    object \n",
      " 2   Education Level      373 non-null    object \n",
      " 3   Job Title            373 non-null    object \n",
      " 4   Years of Experience  373 non-null    float64\n",
      " 5   Salary               373 non-null    float64\n",
      "dtypes: float64(3), object(3)\n",
      "memory usage: 17.7+ KB\n"
     ]
    }
   ],
   "source": [
    "df.info()"
   ]
  },
  {
   "cell_type": "markdown",
   "id": "76eb1c30",
   "metadata": {},
   "source": [
    "### \"Python Code for Data Dimensionality: Using 'shape' Function to Get the Number of Rows and Columns in a DataFrame (df)\""
   ]
  },
  {
   "cell_type": "code",
   "execution_count": 6,
   "id": "1eb20896",
   "metadata": {},
   "outputs": [
    {
     "data": {
      "text/plain": [
       "(375, 6)"
      ]
     },
     "execution_count": 6,
     "metadata": {},
     "output_type": "execute_result"
    }
   ],
   "source": [
    "df.shape"
   ]
  },
  {
   "cell_type": "markdown",
   "id": "db46a0f1",
   "metadata": {},
   "source": [
    "### \"Python Code for Statistical Summary: Using 'describe' Function to Get Descriptive Statistics of DataFrame (df)\""
   ]
  },
  {
   "cell_type": "code",
   "execution_count": 7,
   "id": "df5d1761",
   "metadata": {},
   "outputs": [
    {
     "data": {
      "text/html": [
       "<div>\n",
       "<style scoped>\n",
       "    .dataframe tbody tr th:only-of-type {\n",
       "        vertical-align: middle;\n",
       "    }\n",
       "\n",
       "    .dataframe tbody tr th {\n",
       "        vertical-align: top;\n",
       "    }\n",
       "\n",
       "    .dataframe thead th {\n",
       "        text-align: right;\n",
       "    }\n",
       "</style>\n",
       "<table border=\"1\" class=\"dataframe\">\n",
       "  <thead>\n",
       "    <tr style=\"text-align: right;\">\n",
       "      <th></th>\n",
       "      <th>Age</th>\n",
       "      <th>Years of Experience</th>\n",
       "      <th>Salary</th>\n",
       "    </tr>\n",
       "  </thead>\n",
       "  <tbody>\n",
       "    <tr>\n",
       "      <th>count</th>\n",
       "      <td>373.000000</td>\n",
       "      <td>373.000000</td>\n",
       "      <td>373.000000</td>\n",
       "    </tr>\n",
       "    <tr>\n",
       "      <th>mean</th>\n",
       "      <td>37.431635</td>\n",
       "      <td>10.030831</td>\n",
       "      <td>100670.241287</td>\n",
       "    </tr>\n",
       "    <tr>\n",
       "      <th>std</th>\n",
       "      <td>7.069073</td>\n",
       "      <td>6.557007</td>\n",
       "      <td>48079.583434</td>\n",
       "    </tr>\n",
       "    <tr>\n",
       "      <th>min</th>\n",
       "      <td>23.000000</td>\n",
       "      <td>0.000000</td>\n",
       "      <td>30000.000000</td>\n",
       "    </tr>\n",
       "    <tr>\n",
       "      <th>25%</th>\n",
       "      <td>31.000000</td>\n",
       "      <td>4.000000</td>\n",
       "      <td>55000.000000</td>\n",
       "    </tr>\n",
       "    <tr>\n",
       "      <th>50%</th>\n",
       "      <td>36.000000</td>\n",
       "      <td>9.000000</td>\n",
       "      <td>95000.000000</td>\n",
       "    </tr>\n",
       "    <tr>\n",
       "      <th>75%</th>\n",
       "      <td>44.000000</td>\n",
       "      <td>15.000000</td>\n",
       "      <td>140000.000000</td>\n",
       "    </tr>\n",
       "    <tr>\n",
       "      <th>max</th>\n",
       "      <td>53.000000</td>\n",
       "      <td>25.000000</td>\n",
       "      <td>250000.000000</td>\n",
       "    </tr>\n",
       "  </tbody>\n",
       "</table>\n",
       "</div>"
      ],
      "text/plain": [
       "              Age  Years of Experience         Salary\n",
       "count  373.000000           373.000000     373.000000\n",
       "mean    37.431635            10.030831  100670.241287\n",
       "std      7.069073             6.557007   48079.583434\n",
       "min     23.000000             0.000000   30000.000000\n",
       "25%     31.000000             4.000000   55000.000000\n",
       "50%     36.000000             9.000000   95000.000000\n",
       "75%     44.000000            15.000000  140000.000000\n",
       "max     53.000000            25.000000  250000.000000"
      ]
     },
     "execution_count": 7,
     "metadata": {},
     "output_type": "execute_result"
    }
   ],
   "source": [
    "df.describe()"
   ]
  },
  {
   "cell_type": "markdown",
   "id": "ff8da85f",
   "metadata": {},
   "source": [
    "### \"Python Code for Missing Values: Using 'isnull' Function to Check for Null Values and 'sum' Function to Count Their Occurrences in DataFrame (df)\""
   ]
  },
  {
   "cell_type": "code",
   "execution_count": 8,
   "id": "ae7ac21c",
   "metadata": {},
   "outputs": [
    {
     "data": {
      "text/plain": [
       "Age                    2\n",
       "Gender                 2\n",
       "Education Level        2\n",
       "Job Title              2\n",
       "Years of Experience    2\n",
       "Salary                 2\n",
       "dtype: int64"
      ]
     },
     "execution_count": 8,
     "metadata": {},
     "output_type": "execute_result"
    }
   ],
   "source": [
    "df.isnull().sum()"
   ]
  },
  {
   "cell_type": "markdown",
   "id": "2c4652c1",
   "metadata": {},
   "source": [
    "# Data Analysis and Visualization"
   ]
  },
  {
   "cell_type": "markdown",
   "id": "77972eff",
   "metadata": {},
   "source": [
    "### \"Python Code for Data Visualization: Using 'hist' Function to Create a Histogram of DataFrame (df) Values and 'show' Function to Display the Plot\""
   ]
  },
  {
   "cell_type": "code",
   "execution_count": 9,
   "id": "3f9bb086",
   "metadata": {},
   "outputs": [
    {
     "data": {
      "image/png": "[encoded data removed]",
      "text/plain": [
       "<Figure size 1440x1080 with 4 Axes>"
      ]
     },
     "metadata": {
      "needs_background": "light"
     },
     "output_type": "display_data"
    }
   ],
   "source": [
    "df.hist(bins=50, figsize=(20,15))\n",
    "plt.show()"
   ]
  },
  {
   "cell_type": "code",
   "execution_count": 10,
   "id": "ec7f4274",
   "metadata": {},
   "outputs": [
    {
     "name": "stdout",
     "output_type": "stream",
     "text": [
      "<class 'pandas.core.frame.DataFrame'>\n",
      "RangeIndex: 375 entries, 0 to 374\n",
      "Data columns (total 6 columns):\n",
      " #   Column               Non-Null Count  Dtype  \n",
      "---  ------               --------------  -----  \n",
      " 0   Age                  373 non-null    float64\n",
      " 1   Gender               373 non-null    object \n",
      " 2   Education Level      373 non-null    object \n",
      " 3   Job Title            373 non-null    object \n",
      " 4   Years of Experience  373 non-null    float64\n",
      " 5   Salary               373 non-null    float64\n",
      "dtypes: float64(3), object(3)\n",
      "memory usage: 17.7+ KB\n"
     ]
    }
   ],
   "source": [
    "df.info()"
   ]
  },
  {
   "cell_type": "markdown",
   "id": "e134389d",
   "metadata": {},
   "source": [
    "### \"Python Code for Data Exploration: Using 'groupby' and 'dtype' Functions to Group DataFrame (df) Columns by Data Type and Creating a Dictionary to Store Column Types\""
   ]
  },
  {
   "cell_type": "code",
   "execution_count": 11,
   "id": "1a5110e7",
   "metadata": {},
   "outputs": [],
   "source": [
    "g=df.columns.to_series().groupby(df.dtypes).groups\n",
    "ColumnType ={k.name: v for k, v in g.items()} "
   ]
  },
  {
   "cell_type": "markdown",
   "id": "a2d7c9cb",
   "metadata": {},
   "source": [
    "### \"Python Code for Categorical Data Visualization: Using 'countplot' Function to Create Bar Charts for Columns of Type 'object' in DataFrame (df)\""
   ]
  },
  {
   "cell_type": "code",
   "execution_count": 12,
   "id": "4dc6e5b3",
   "metadata": {},
   "outputs": [
    {
     "name": "stdout",
     "output_type": "stream",
     "text": [
      "Gender\n",
      "Education Level\n",
      "Job Title\n"
     ]
    },
    {
     "data": {
      "image/png": "[encoded data removed]",
      "text/plain": [
       "<Figure size 648x648 with 1 Axes>"
      ]
     },
     "metadata": {
      "needs_background": "light"
     },
     "output_type": "display_data"
    },
    {
     "data": {
      "image/png": "[encoded data removed]",
      "text/plain": [
       "<Figure size 648x648 with 1 Axes>"
      ]
     },
     "metadata": {
      "needs_background": "light"
     },
     "output_type": "display_data"
    },
    {
     "data": {
      "image/png": "[encoded data removed]",
      "text/plain": [
       "<Figure size 648x648 with 1 Axes>"
      ]
     },
     "metadata": {
      "needs_background": "light"
     },
     "output_type": "display_data"
    }
   ],
   "source": [
    "#plotting columns with type as 'object'\n",
    "for c in ColumnType[ 'object']:\n",
    "    print(c)\n",
    "    fig, ax = plt.subplots()\n",
    "    fig.set_size_inches(9, 9)\n",
    "    ax = sns.countplot(x=c, data=df)"
   ]
  },
  {
   "cell_type": "markdown",
   "id": "711fd776",
   "metadata": {},
   "source": [
    "# Feature Engineering"
   ]
  },
  {
   "cell_type": "markdown",
   "id": "2cdbe958",
   "metadata": {},
   "source": [
    "### \"Python Code for Missing Value Treatment: Using 'dropna' Function to Remove Rows with at Least Four Null Values from DataFrame (df)\""
   ]
  },
  {
   "cell_type": "code",
   "execution_count": 13,
   "id": "a431dd9b",
   "metadata": {},
   "outputs": [],
   "source": [
    "df = df.dropna(thresh=4)"
   ]
  },
  {
   "cell_type": "markdown",
   "id": "68c1c038",
   "metadata": {},
   "source": [
    "### \"Python Code for Data Cleaning: Using 'duplicated' Function to Check for Duplicates in DataFrame (df) and 'sum' Function to Count Their Occurrences\""
   ]
  },
  {
   "cell_type": "code",
   "execution_count": 14,
   "id": "9b7b8066",
   "metadata": {},
   "outputs": [
    {
     "data": {
      "text/plain": [
       "50"
      ]
     },
     "execution_count": 14,
     "metadata": {},
     "output_type": "execute_result"
    }
   ],
   "source": [
    "df.duplicated().sum()"
   ]
  },
  {
   "cell_type": "markdown",
   "id": "c4e8890b",
   "metadata": {},
   "source": [
    "### \"Python Code for Data Cleaning: Using 'drop_duplicates' Function to Remove Duplicate Rows from DataFrame (df) and 'info' Function to Check DataFrame Structure and Content\""
   ]
  },
  {
   "cell_type": "code",
   "execution_count": 15,
   "id": "177f6b28",
   "metadata": {},
   "outputs": [
    {
     "name": "stdout",
     "output_type": "stream",
     "text": [
      "<class 'pandas.core.frame.DataFrame'>\n",
      "Int64Index: 323 entries, 0 to 371\n",
      "Data columns (total 6 columns):\n",
      " #   Column               Non-Null Count  Dtype  \n",
      "---  ------               --------------  -----  \n",
      " 0   Age                  323 non-null    float64\n",
      " 1   Gender               323 non-null    object \n",
      " 2   Education Level      323 non-null    object \n",
      " 3   Job Title            323 non-null    object \n",
      " 4   Years of Experience  323 non-null    float64\n",
      " 5   Salary               323 non-null    float64\n",
      "dtypes: float64(3), object(3)\n",
      "memory usage: 17.7+ KB\n"
     ]
    }
   ],
   "source": [
    "df = df.drop_duplicates()\n",
    "df.info()"
   ]
  },
  {
   "cell_type": "markdown",
   "id": "11118952",
   "metadata": {},
   "source": [
    "### \"Python Code for Missing Values: Using 'isnull' Function to Check for Null Values and 'sum' Function to Count Their Occurrences in DataFrame (df)\""
   ]
  },
  {
   "cell_type": "code",
   "execution_count": 16,
   "id": "a5125e83",
   "metadata": {},
   "outputs": [
    {
     "data": {
      "text/plain": [
       "Age                    0\n",
       "Gender                 0\n",
       "Education Level        0\n",
       "Job Title              0\n",
       "Years of Experience    0\n",
       "Salary                 0\n",
       "dtype: int64"
      ]
     },
     "execution_count": 16,
     "metadata": {},
     "output_type": "execute_result"
    }
   ],
   "source": [
    "df.isnull().sum()"
   ]
  },
  {
   "cell_type": "markdown",
   "id": "c1ad90a9",
   "metadata": {},
   "source": [
    "This Python output shows the number of null values for each column in a DataFrame. The output indicates that all columns have zero null values, suggesting that the DataFrame has complete data with no missing values. Complete data is essential for accurate data analysis and modeling as missing values can cause bias and reduce the quality of results."
   ]
  },
  {
   "cell_type": "markdown",
   "id": "906e0215",
   "metadata": {},
   "source": [
    "### \"Python Code for Target Encoding: Using 'category_encoders' Library to Apply Target Encoding on 'Job Title' Column and Transforming it Based on 'Salary' Column in DataFrame (df)\""
   ]
  },
  {
   "cell_type": "code",
   "execution_count": 17,
   "id": "51e322ec",
   "metadata": {},
   "outputs": [
    {
     "name": "stdout",
     "output_type": "stream",
     "text": [
      "Requirement already satisfied: category_encoders in c:\\users\\parth\\anaconda3\\lib\\site-packages (2.6.0)\n",
      "Requirement already satisfied: scipy>=1.0.0 in c:\\users\\parth\\anaconda3\\lib\\site-packages (from category_encoders) (1.7.3)\n",
      "Requirement already satisfied: patsy>=0.5.1 in c:\\users\\parth\\anaconda3\\lib\\site-packages (from category_encoders) (0.5.2)\n",
      "Requirement already satisfied: pandas>=1.0.5 in c:\\users\\parth\\anaconda3\\lib\\site-packages (from category_encoders) (1.4.2)\n",
      "Requirement already satisfied: scikit-learn>=0.20.0 in c:\\users\\parth\\anaconda3\\lib\\site-packages (from category_encoders) (1.0.2)\n",
      "Requirement already satisfied: numpy>=1.14.0 in c:\\users\\parth\\anaconda3\\lib\\site-packages (from category_encoders) (1.21.5)\n",
      "Requirement already satisfied: statsmodels>=0.9.0 in c:\\users\\parth\\anaconda3\\lib\\site-packages (from category_encoders) (0.13.2)\n",
      "Requirement already satisfied: pytz>=2020.1 in c:\\users\\parth\\anaconda3\\lib\\site-packages (from pandas>=1.0.5->category_encoders) (2021.3)\n",
      "Requirement already satisfied: python-dateutil>=2.8.1 in c:\\users\\parth\\anaconda3\\lib\\site-packages (from pandas>=1.0.5->category_encoders) (2.8.2)\n",
      "Requirement already satisfied: six in c:\\users\\parth\\anaconda3\\lib\\site-packages (from patsy>=0.5.1->category_encoders) (1.16.0)\n",
      "Requirement already satisfied: threadpoolctl>=2.0.0 in c:\\users\\parth\\anaconda3\\lib\\site-packages (from scikit-learn>=0.20.0->category_encoders) (2.2.0)\n",
      "Requirement already satisfied: joblib>=0.11 in c:\\users\\parth\\anaconda3\\lib\\site-packages (from scikit-learn>=0.20.0->category_encoders) (1.2.0)\n",
      "Requirement already satisfied: packaging>=21.3 in c:\\users\\parth\\anaconda3\\lib\\site-packages (from statsmodels>=0.9.0->category_encoders) (21.3)\n",
      "Requirement already satisfied: pyparsing!=3.0.5,>=2.0.2 in c:\\users\\parth\\anaconda3\\lib\\site-packages (from packaging>=21.3->statsmodels>=0.9.0->category_encoders) (3.0.4)\n"
     ]
    }
   ],
   "source": [
    "!pip install category_encoders\n",
    "import category_encoders as ce\n",
    "# target encoding the Job title column\n",
    "te = ce.TargetEncoder(cols=['Job Title'])\n",
    "df['Job Title'] = te.fit_transform(df['Job Title'], df['Salary'])"
   ]
  },
  {
   "cell_type": "code",
   "execution_count": 18,
   "id": "187e5b42",
   "metadata": {
    "scrolled": false
   },
   "outputs": [
    {
     "data": {
      "text/html": [
       "<div>\n",
       "<style scoped>\n",
       "    .dataframe tbody tr th:only-of-type {\n",
       "        vertical-align: middle;\n",
       "    }\n",
       "\n",
       "    .dataframe tbody tr th {\n",
       "        vertical-align: top;\n",
       "    }\n",
       "\n",
       "    .dataframe thead th {\n",
       "        text-align: right;\n",
       "    }\n",
       "</style>\n",
       "<table border=\"1\" class=\"dataframe\">\n",
       "  <thead>\n",
       "    <tr style=\"text-align: right;\">\n",
       "      <th></th>\n",
       "      <th>Age</th>\n",
       "      <th>Gender</th>\n",
       "      <th>Education Level</th>\n",
       "      <th>Job Title</th>\n",
       "      <th>Years of Experience</th>\n",
       "      <th>Salary</th>\n",
       "    </tr>\n",
       "  </thead>\n",
       "  <tbody>\n",
       "    <tr>\n",
       "      <th>0</th>\n",
       "      <td>32.0</td>\n",
       "      <td>Male</td>\n",
       "      <td>Bachelor's</td>\n",
       "      <td>98954.765705</td>\n",
       "      <td>5.0</td>\n",
       "      <td>90000.0</td>\n",
       "    </tr>\n",
       "    <tr>\n",
       "      <th>1</th>\n",
       "      <td>28.0</td>\n",
       "      <td>Female</td>\n",
       "      <td>Master's</td>\n",
       "      <td>96351.492461</td>\n",
       "      <td>3.0</td>\n",
       "      <td>65000.0</td>\n",
       "    </tr>\n",
       "    <tr>\n",
       "      <th>2</th>\n",
       "      <td>45.0</td>\n",
       "      <td>Male</td>\n",
       "      <td>PhD</td>\n",
       "      <td>108763.460640</td>\n",
       "      <td>15.0</td>\n",
       "      <td>150000.0</td>\n",
       "    </tr>\n",
       "    <tr>\n",
       "      <th>3</th>\n",
       "      <td>36.0</td>\n",
       "      <td>Female</td>\n",
       "      <td>Bachelor's</td>\n",
       "      <td>93159.843501</td>\n",
       "      <td>7.0</td>\n",
       "      <td>60000.0</td>\n",
       "    </tr>\n",
       "    <tr>\n",
       "      <th>4</th>\n",
       "      <td>52.0</td>\n",
       "      <td>Male</td>\n",
       "      <td>Master's</td>\n",
       "      <td>113266.697885</td>\n",
       "      <td>20.0</td>\n",
       "      <td>200000.0</td>\n",
       "    </tr>\n",
       "    <tr>\n",
       "      <th>...</th>\n",
       "      <td>...</td>\n",
       "      <td>...</td>\n",
       "      <td>...</td>\n",
       "      <td>...</td>\n",
       "      <td>...</td>\n",
       "      <td>...</td>\n",
       "    </tr>\n",
       "    <tr>\n",
       "      <th>348</th>\n",
       "      <td>28.0</td>\n",
       "      <td>Female</td>\n",
       "      <td>Bachelor's</td>\n",
       "      <td>93297.749758</td>\n",
       "      <td>1.0</td>\n",
       "      <td>35000.0</td>\n",
       "    </tr>\n",
       "    <tr>\n",
       "      <th>349</th>\n",
       "      <td>36.0</td>\n",
       "      <td>Male</td>\n",
       "      <td>Bachelor's</td>\n",
       "      <td>101924.527438</td>\n",
       "      <td>8.0</td>\n",
       "      <td>110000.0</td>\n",
       "    </tr>\n",
       "    <tr>\n",
       "      <th>350</th>\n",
       "      <td>44.0</td>\n",
       "      <td>Female</td>\n",
       "      <td>PhD</td>\n",
       "      <td>112104.903124</td>\n",
       "      <td>16.0</td>\n",
       "      <td>160000.0</td>\n",
       "    </tr>\n",
       "    <tr>\n",
       "      <th>351</th>\n",
       "      <td>31.0</td>\n",
       "      <td>Male</td>\n",
       "      <td>Bachelor's</td>\n",
       "      <td>90754.335843</td>\n",
       "      <td>3.0</td>\n",
       "      <td>55000.0</td>\n",
       "    </tr>\n",
       "    <tr>\n",
       "      <th>371</th>\n",
       "      <td>43.0</td>\n",
       "      <td>Male</td>\n",
       "      <td>Master's</td>\n",
       "      <td>118257.434888</td>\n",
       "      <td>19.0</td>\n",
       "      <td>170000.0</td>\n",
       "    </tr>\n",
       "  </tbody>\n",
       "</table>\n",
       "<p>323 rows × 6 columns</p>\n",
       "</div>"
      ],
      "text/plain": [
       "      Age  Gender Education Level      Job Title  Years of Experience  \\\n",
       "0    32.0    Male      Bachelor's   98954.765705                  5.0   \n",
       "1    28.0  Female        Master's   96351.492461                  3.0   \n",
       "2    45.0    Male             PhD  108763.460640                 15.0   \n",
       "3    36.0  Female      Bachelor's   93159.843501                  7.0   \n",
       "4    52.0    Male        Master's  113266.697885                 20.0   \n",
       "..    ...     ...             ...            ...                  ...   \n",
       "348  28.0  Female      Bachelor's   93297.749758                  1.0   \n",
       "349  36.0    Male      Bachelor's  101924.527438                  8.0   \n",
       "350  44.0  Female             PhD  112104.903124                 16.0   \n",
       "351  31.0    Male      Bachelor's   90754.335843                  3.0   \n",
       "371  43.0    Male        Master's  118257.434888                 19.0   \n",
       "\n",
       "       Salary  \n",
       "0     90000.0  \n",
       "1     65000.0  \n",
       "2    150000.0  \n",
       "3     60000.0  \n",
       "4    200000.0  \n",
       "..        ...  \n",
       "348   35000.0  \n",
       "349  110000.0  \n",
       "350  160000.0  \n",
       "351   55000.0  \n",
       "371  170000.0  \n",
       "\n",
       "[323 rows x 6 columns]"
      ]
     },
     "execution_count": 18,
     "metadata": {},
     "output_type": "execute_result"
    }
   ],
   "source": [
    "df"
   ]
  },
  {
   "cell_type": "markdown",
   "id": "c7215545",
   "metadata": {},
   "source": [
    "The Python code is performing target encoding on the 'Job Title' column of a DataFrame named 'df'. Target encoding is a technique for encoding categorical variables by replacing each category with the average value of the target variable for that category.\n",
    "\n",
    "The 'category_encoders' library is used to perform the target encoding. The 'TargetEncoder' class is used to create an instance of the target encoder and the 'cols' parameter is used to specify the column to be encoded.\n",
    "\n",
    "The 'fit_transform' method is used to apply the target encoding on the 'Job Title' column, with the 'Salary' column being the target variable. The resulting encoded values are then assigned back to the 'Job Title' column of the DataFrame 'df'.\n",
    "\n",
    "The output of the code is the updated DataFrame 'df', which now has the target-encoded values for the 'Job Title' column. The 'Job Title' column now contains numerical values instead of the original categorical values. These numerical values represent the average salary for each job title category. The rest of the columns in the DataFrame remain the same as before."
   ]
  },
  {
   "cell_type": "markdown",
   "id": "92adfa49",
   "metadata": {},
   "source": [
    "### \"Binary Encoding or One-Hot Encoding for Categorical Variables in Pandas DataFrame\""
   ]
  },
  {
   "cell_type": "code",
   "execution_count": 19,
   "id": "0415931d",
   "metadata": {},
   "outputs": [],
   "source": [
    "# binary encoding or One-Hot Encoding the categorical columns\n",
    "df = pd.get_dummies(df, columns=['Gender', 'Education Level'])"
   ]
  },
  {
   "cell_type": "code",
   "execution_count": 20,
   "id": "07038cac",
   "metadata": {
    "scrolled": true
   },
   "outputs": [
    {
     "data": {
      "text/html": [
       "<div>\n",
       "<style scoped>\n",
       "    .dataframe tbody tr th:only-of-type {\n",
       "        vertical-align: middle;\n",
       "    }\n",
       "\n",
       "    .dataframe tbody tr th {\n",
       "        vertical-align: top;\n",
       "    }\n",
       "\n",
       "    .dataframe thead th {\n",
       "        text-align: right;\n",
       "    }\n",
       "</style>\n",
       "<table border=\"1\" class=\"dataframe\">\n",
       "  <thead>\n",
       "    <tr style=\"text-align: right;\">\n",
       "      <th></th>\n",
       "      <th>Age</th>\n",
       "      <th>Job Title</th>\n",
       "      <th>Years of Experience</th>\n",
       "      <th>Salary</th>\n",
       "      <th>Gender_Female</th>\n",
       "      <th>Gender_Male</th>\n",
       "      <th>Education Level_Bachelor's</th>\n",
       "      <th>Education Level_Master's</th>\n",
       "      <th>Education Level_PhD</th>\n",
       "    </tr>\n",
       "  </thead>\n",
       "  <tbody>\n",
       "    <tr>\n",
       "      <th>0</th>\n",
       "      <td>32.0</td>\n",
       "      <td>98954.765705</td>\n",
       "      <td>5.0</td>\n",
       "      <td>90000.0</td>\n",
       "      <td>0</td>\n",
       "      <td>1</td>\n",
       "      <td>1</td>\n",
       "      <td>0</td>\n",
       "      <td>0</td>\n",
       "    </tr>\n",
       "    <tr>\n",
       "      <th>1</th>\n",
       "      <td>28.0</td>\n",
       "      <td>96351.492461</td>\n",
       "      <td>3.0</td>\n",
       "      <td>65000.0</td>\n",
       "      <td>1</td>\n",
       "      <td>0</td>\n",
       "      <td>0</td>\n",
       "      <td>1</td>\n",
       "      <td>0</td>\n",
       "    </tr>\n",
       "    <tr>\n",
       "      <th>2</th>\n",
       "      <td>45.0</td>\n",
       "      <td>108763.460640</td>\n",
       "      <td>15.0</td>\n",
       "      <td>150000.0</td>\n",
       "      <td>0</td>\n",
       "      <td>1</td>\n",
       "      <td>0</td>\n",
       "      <td>0</td>\n",
       "      <td>1</td>\n",
       "    </tr>\n",
       "    <tr>\n",
       "      <th>3</th>\n",
       "      <td>36.0</td>\n",
       "      <td>93159.843501</td>\n",
       "      <td>7.0</td>\n",
       "      <td>60000.0</td>\n",
       "      <td>1</td>\n",
       "      <td>0</td>\n",
       "      <td>1</td>\n",
       "      <td>0</td>\n",
       "      <td>0</td>\n",
       "    </tr>\n",
       "    <tr>\n",
       "      <th>4</th>\n",
       "      <td>52.0</td>\n",
       "      <td>113266.697885</td>\n",
       "      <td>20.0</td>\n",
       "      <td>200000.0</td>\n",
       "      <td>0</td>\n",
       "      <td>1</td>\n",
       "      <td>0</td>\n",
       "      <td>1</td>\n",
       "      <td>0</td>\n",
       "    </tr>\n",
       "    <tr>\n",
       "      <th>...</th>\n",
       "      <td>...</td>\n",
       "      <td>...</td>\n",
       "      <td>...</td>\n",
       "      <td>...</td>\n",
       "      <td>...</td>\n",
       "      <td>...</td>\n",
       "      <td>...</td>\n",
       "      <td>...</td>\n",
       "      <td>...</td>\n",
       "    </tr>\n",
       "    <tr>\n",
       "      <th>348</th>\n",
       "      <td>28.0</td>\n",
       "      <td>93297.749758</td>\n",
       "      <td>1.0</td>\n",
       "      <td>35000.0</td>\n",
       "      <td>1</td>\n",
       "      <td>0</td>\n",
       "      <td>1</td>\n",
       "      <td>0</td>\n",
       "      <td>0</td>\n",
       "    </tr>\n",
       "    <tr>\n",
       "      <th>349</th>\n",
       "      <td>36.0</td>\n",
       "      <td>101924.527438</td>\n",
       "      <td>8.0</td>\n",
       "      <td>110000.0</td>\n",
       "      <td>0</td>\n",
       "      <td>1</td>\n",
       "      <td>1</td>\n",
       "      <td>0</td>\n",
       "      <td>0</td>\n",
       "    </tr>\n",
       "    <tr>\n",
       "      <th>350</th>\n",
       "      <td>44.0</td>\n",
       "      <td>112104.903124</td>\n",
       "      <td>16.0</td>\n",
       "      <td>160000.0</td>\n",
       "      <td>1</td>\n",
       "      <td>0</td>\n",
       "      <td>0</td>\n",
       "      <td>0</td>\n",
       "      <td>1</td>\n",
       "    </tr>\n",
       "    <tr>\n",
       "      <th>351</th>\n",
       "      <td>31.0</td>\n",
       "      <td>90754.335843</td>\n",
       "      <td>3.0</td>\n",
       "      <td>55000.0</td>\n",
       "      <td>0</td>\n",
       "      <td>1</td>\n",
       "      <td>1</td>\n",
       "      <td>0</td>\n",
       "      <td>0</td>\n",
       "    </tr>\n",
       "    <tr>\n",
       "      <th>371</th>\n",
       "      <td>43.0</td>\n",
       "      <td>118257.434888</td>\n",
       "      <td>19.0</td>\n",
       "      <td>170000.0</td>\n",
       "      <td>0</td>\n",
       "      <td>1</td>\n",
       "      <td>0</td>\n",
       "      <td>1</td>\n",
       "      <td>0</td>\n",
       "    </tr>\n",
       "  </tbody>\n",
       "</table>\n",
       "<p>323 rows × 9 columns</p>\n",
       "</div>"
      ],
      "text/plain": [
       "      Age      Job Title  Years of Experience    Salary  Gender_Female  \\\n",
       "0    32.0   98954.765705                  5.0   90000.0              0   \n",
       "1    28.0   96351.492461                  3.0   65000.0              1   \n",
       "2    45.0  108763.460640                 15.0  150000.0              0   \n",
       "3    36.0   93159.843501                  7.0   60000.0              1   \n",
       "4    52.0  113266.697885                 20.0  200000.0              0   \n",
       "..    ...            ...                  ...       ...            ...   \n",
       "348  28.0   93297.749758                  1.0   35000.0              1   \n",
       "349  36.0  101924.527438                  8.0  110000.0              0   \n",
       "350  44.0  112104.903124                 16.0  160000.0              1   \n",
       "351  31.0   90754.335843                  3.0   55000.0              0   \n",
       "371  43.0  118257.434888                 19.0  170000.0              0   \n",
       "\n",
       "     Gender_Male  Education Level_Bachelor's  Education Level_Master's  \\\n",
       "0              1                           1                         0   \n",
       "1              0                           0                         1   \n",
       "2              1                           0                         0   \n",
       "3              0                           1                         0   \n",
       "4              1                           0                         1   \n",
       "..           ...                         ...                       ...   \n",
       "348            0                           1                         0   \n",
       "349            1                           1                         0   \n",
       "350            0                           0                         0   \n",
       "351            1                           1                         0   \n",
       "371            1                           0                         1   \n",
       "\n",
       "     Education Level_PhD  \n",
       "0                      0  \n",
       "1                      0  \n",
       "2                      1  \n",
       "3                      0  \n",
       "4                      0  \n",
       "..                   ...  \n",
       "348                    0  \n",
       "349                    0  \n",
       "350                    1  \n",
       "351                    0  \n",
       "371                    0  \n",
       "\n",
       "[323 rows x 9 columns]"
      ]
     },
     "execution_count": 20,
     "metadata": {},
     "output_type": "execute_result"
    }
   ],
   "source": [
    "df"
   ]
  },
  {
   "cell_type": "markdown",
   "id": "c5b0208f",
   "metadata": {},
   "source": [
    "### \"Boxplots of Numerical Variables in the DataFrame\""
   ]
  },
  {
   "cell_type": "code",
   "execution_count": 21,
   "id": "861dd2d8",
   "metadata": {},
   "outputs": [
    {
     "data": {
      "image/png": "[encoded data removed]",
      "text/plain": [
       "<Figure size 432x288 with 1 Axes>"
      ]
     },
     "metadata": {
      "needs_background": "light"
     },
     "output_type": "display_data"
    },
    {
     "data": {
      "image/png": "[encoded data removed]",
      "text/plain": [
       "<Figure size 432x288 with 1 Axes>"
      ]
     },
     "metadata": {
      "needs_background": "light"
     },
     "output_type": "display_data"
    },
    {
     "data": {
      "image/png": "[encoded data removed]",
      "text/plain": [
       "<Figure size 432x288 with 1 Axes>"
      ]
     },
     "metadata": {
      "needs_background": "light"
     },
     "output_type": "display_data"
    },
    {
     "data": {
      "image/png": "[encoded data removed]",
      "text/plain": [
       "<Figure size 432x288 with 1 Axes>"
      ]
     },
     "metadata": {
      "needs_background": "light"
     },
     "output_type": "display_data"
    },
    {
     "data": {
      "image/png": "[encoded data removed]",
      "text/plain": [
       "<Figure size 432x288 with 1 Axes>"
      ]
     },
     "metadata": {
      "needs_background": "light"
     },
     "output_type": "display_data"
    },
    {
     "data": {
      "image/png": "[encoded data removed]",
      "text/plain": [
       "<Figure size 432x288 with 1 Axes>"
      ]
     },
     "metadata": {
      "needs_background": "light"
     },
     "output_type": "display_data"
    },
    {
     "data": {
      "image/png": "[encoded data removed]",
      "text/plain": [
       "<Figure size 432x288 with 1 Axes>"
      ]
     },
     "metadata": {
      "needs_background": "light"
     },
     "output_type": "display_data"
    },
    {
     "data": {
      "image/png": "[encoded data removed]",
      "text/plain": [
       "<Figure size 432x288 with 1 Axes>"
      ]
     },
     "metadata": {
      "needs_background": "light"
     },
     "output_type": "display_data"
    },
    {
     "data": {
      "image/png": "[encoded data removed]",
      "text/plain": [
       "<Figure size 432x288 with 1 Axes>"
      ]
     },
     "metadata": {
      "needs_background": "light"
     },
     "output_type": "display_data"
    }
   ],
   "source": [
    "# create a list of column names\n",
    "columns = list(df.columns)\n",
    "\n",
    "# loop over each column and create a box plot\n",
    "for col in columns:\n",
    "    plt.figure()\n",
    "    df[col].plot(kind='box')\n",
    "    plt.title(col)\n",
    "    plt.show()"
   ]
  },
  {
   "cell_type": "markdown",
   "id": "7547c106",
   "metadata": {},
   "source": [
    "### Creating feature matrix and target vector for salary prediction model."
   ]
  },
  {
   "cell_type": "code",
   "execution_count": 22,
   "id": "40934484",
   "metadata": {},
   "outputs": [],
   "source": [
    "y = df['Salary']\n",
    "X = df.drop('Salary',axis =1)"
   ]
  },
  {
   "cell_type": "markdown",
   "id": "da4c6a7e",
   "metadata": {},
   "source": [
    "# Preprocessing"
   ]
  },
  {
   "cell_type": "markdown",
   "id": "f6b82d49",
   "metadata": {},
   "source": [
    "### \"Data Preprocessing and Class Imbalance Analysis using IterativeImputer, RandomOverSampler, and Class Weight Computation\""
   ]
  },
  {
   "cell_type": "code",
   "execution_count": 23,
   "id": "fb67f4ab",
   "metadata": {},
   "outputs": [
    {
     "name": "stdout",
     "output_type": "stream",
     "text": [
      "40000.0     26\n",
      "120000.0    20\n",
      "50000.0     19\n",
      "95000.0     18\n",
      "45000.0     18\n",
      "180000.0    17\n",
      "90000.0     15\n",
      "110000.0    14\n",
      "140000.0    14\n",
      "160000.0    14\n",
      "170000.0    13\n",
      "60000.0     13\n",
      "35000.0     12\n",
      "100000.0    12\n",
      "150000.0    12\n",
      "80000.0     12\n",
      "130000.0    11\n",
      "55000.0     10\n",
      "65000.0      9\n",
      "70000.0      8\n",
      "105000.0     6\n",
      "85000.0      5\n",
      "190000.0     4\n",
      "75000.0      4\n",
      "115000.0     3\n",
      "200000.0     2\n",
      "250000.0     2\n",
      "135000.0     2\n",
      "175000.0     2\n",
      "125000.0     1\n",
      "30000.0      1\n",
      "220000.0     1\n",
      "185000.0     1\n",
      "145000.0     1\n",
      "155000.0     1\n",
      "Name: Salary, dtype: int64\n"
     ]
    }
   ],
   "source": [
    "from sklearn.experimental import enable_iterative_imputer\n",
    "from sklearn.impute import IterativeImputer\n",
    "from sklearn.linear_model import LinearRegression\n",
    "from sklearn.impute import SimpleImputer\n",
    "from sklearn.model_selection import train_test_split\n",
    "from sklearn.utils.class_weight import compute_class_weight\n",
    "from imblearn.over_sampling import RandomOverSampler\n",
    "\n",
    "# Calculate class frequencies in the target variable\n",
    "class_freq = y.value_counts()\n",
    "\n",
    "print(class_freq)"
   ]
  },
  {
   "cell_type": "markdown",
   "id": "cbd5c7ff",
   "metadata": {},
   "source": [
    "The code begins by importing several required libraries and packages. \n",
    "\n",
    "In the code, the frequency distribution of the target variable Salary is calculated and stored in the variable class_freq using the value_counts() method, which returns a pandas series containing the counts of unique values in the target variable y.\n",
    "\n",
    "The output displays the frequency distribution of the Salary variable. It shows that the most common salary range is 40,000, followed by 120,000 and 50,000. There are a few salaries in the high range, such as 2,50,000, but they are much less frequent than the lower range. This information can be useful in determining how to handle an imbalanced dataset, such as by using oversampling or undersampling techniques to balance the classes."
   ]
  },
  {
   "cell_type": "markdown",
   "id": "5705bc09",
   "metadata": {},
   "source": [
    "### \"Random Oversampling Technique for Imbalanced Data using Python's scikit-learn Library\""
   ]
  },
  {
   "cell_type": "code",
   "execution_count": 24,
   "id": "4ba7d1cd",
   "metadata": {},
   "outputs": [],
   "source": [
    "ros = RandomOverSampler(random_state=0)\n",
    "X_resampled, y_resampled = ros.fit_resample(X, y)"
   ]
  },
  {
   "cell_type": "markdown",
   "id": "edcaa7ea",
   "metadata": {},
   "source": [
    "### \"Displaying Frequency of Classes in Resampled Data using Python's Pandas Library\""
   ]
  },
  {
   "cell_type": "code",
   "execution_count": 25,
   "id": "f055a120",
   "metadata": {
    "scrolled": true
   },
   "outputs": [
    {
     "name": "stdout",
     "output_type": "stream",
     "text": [
      "90000.0     26\n",
      "70000.0     26\n",
      "250000.0    26\n",
      "170000.0    26\n",
      "160000.0    26\n",
      "85000.0     26\n",
      "95000.0     26\n",
      "105000.0    26\n",
      "100000.0    26\n",
      "190000.0    26\n",
      "30000.0     26\n",
      "135000.0    26\n",
      "220000.0    26\n",
      "175000.0    26\n",
      "185000.0    26\n",
      "145000.0    26\n",
      "50000.0     26\n",
      "180000.0    26\n",
      "65000.0     26\n",
      "45000.0     26\n",
      "150000.0    26\n",
      "60000.0     26\n",
      "200000.0    26\n",
      "55000.0     26\n",
      "120000.0    26\n",
      "80000.0     26\n",
      "110000.0    26\n",
      "35000.0     26\n",
      "75000.0     26\n",
      "140000.0    26\n",
      "130000.0    26\n",
      "40000.0     26\n",
      "125000.0    26\n",
      "115000.0    26\n",
      "155000.0    26\n",
      "Name: Salary, dtype: int64\n"
     ]
    }
   ],
   "source": [
    "class_freq = y_resampled.value_counts()\n",
    "\n",
    "print(class_freq)"
   ]
  },
  {
   "cell_type": "markdown",
   "id": "7476e227",
   "metadata": {},
   "source": [
    "### \"Class Frequency of Resampled Data for Salary Column\"\n",
    "\n",
    "The output shows the frequency of different salary classes after applying the Random Oversampling technique to balance the imbalanced data. Each salary class has 26 instances in the resampled data, indicating that the Random Oversampling technique has duplicated each instance of the minority class until it reaches the same number of instances as the majority class. This technique is used to ensure that the model is not biased towards the majority class and can learn from both classes equally. The displayed frequency can be helpful in understanding the distribution of the data and the effectiveness of the oversampling technique."
   ]
  },
  {
   "cell_type": "markdown",
   "id": "13aac999",
   "metadata": {},
   "source": [
    "###  \"Splitting Resampled Data into Train and Test Sets using Python's scikit-learn Library\""
   ]
  },
  {
   "cell_type": "code",
   "execution_count": 26,
   "id": "710cfbf5",
   "metadata": {},
   "outputs": [],
   "source": [
    "X_train,X_test,y_train,y_test= train_test_split(X_resampled, y_resampled, test_size = 0.2, shuffle = True, random_state = 42)"
   ]
  },
  {
   "cell_type": "markdown",
   "id": "2051aae6",
   "metadata": {},
   "source": [
    "### \"Standardizing Resampled Data using Python's scikit-learn Library\""
   ]
  },
  {
   "cell_type": "code",
   "execution_count": 27,
   "id": "fd388462",
   "metadata": {},
   "outputs": [],
   "source": [
    "from sklearn.preprocessing import StandardScaler\n",
    "scaler = StandardScaler()\n",
    "X_train = scaler.fit_transform(X_train)\n",
    "X_test = scaler.transform(X_test)"
   ]
  },
  {
   "cell_type": "markdown",
   "id": "1823c5b5",
   "metadata": {},
   "source": [
    "Code uses StandardScaler class from scikit-learn to standardize resampled data, transforming features to have zero mean and unit variance. Standardization ensures equal feature contribution to the model, important for algorithms sensitive to feature scale. StandardScaler creates instance, fit_transform() computes mean and standard deviation of each feature, scaling data. transform() applies learned scaling factors to test data. Result: features have mean of 0 and standard deviation of 1. Standardization can improve ML performance, especially for distance-based or regularization-based algorithms."
   ]
  },
  {
   "cell_type": "markdown",
   "id": "1432eeec",
   "metadata": {},
   "source": [
    "# Training of Models"
   ]
  },
  {
   "cell_type": "markdown",
   "id": "87946df7",
   "metadata": {},
   "source": [
    "## Model 1: Random Forest"
   ]
  },
  {
   "cell_type": "code",
   "execution_count": 28,
   "id": "8ce50ebd",
   "metadata": {},
   "outputs": [
    {
     "name": "stdout",
     "output_type": "stream",
     "text": [
      "              precision    recall  f1-score   support\n",
      "\n",
      "     30000.0       0.92      1.00      0.96        12\n",
      "     35000.0       0.83      0.83      0.83         6\n",
      "     40000.0       0.75      0.75      0.75         4\n",
      "     45000.0       0.80      1.00      0.89         4\n",
      "     50000.0       1.00      0.86      0.92         7\n",
      "     55000.0       1.00      1.00      1.00         5\n",
      "     60000.0       1.00      0.75      0.86         4\n",
      "     65000.0       1.00      1.00      1.00         5\n",
      "     70000.0       1.00      1.00      1.00         6\n",
      "     75000.0       1.00      1.00      1.00         4\n",
      "     80000.0       0.50      1.00      0.67         1\n",
      "     85000.0       1.00      1.00      1.00        10\n",
      "     90000.0       0.80      1.00      0.89         4\n",
      "     95000.0       1.00      0.50      0.67         2\n",
      "    100000.0       1.00      0.88      0.93         8\n",
      "    105000.0       0.83      1.00      0.91         5\n",
      "    110000.0       0.60      0.60      0.60         5\n",
      "    115000.0       1.00      1.00      1.00         3\n",
      "    120000.0       0.50      0.50      0.50         4\n",
      "    125000.0       1.00      1.00      1.00         6\n",
      "    130000.0       1.00      0.75      0.86         4\n",
      "    135000.0       0.60      1.00      0.75         3\n",
      "    140000.0       1.00      0.60      0.75         5\n",
      "    145000.0       1.00      1.00      1.00         4\n",
      "    150000.0       1.00      1.00      1.00         6\n",
      "    155000.0       1.00      1.00      1.00         6\n",
      "    160000.0       1.00      0.83      0.91         6\n",
      "    170000.0       1.00      0.71      0.83         7\n",
      "    175000.0       0.50      1.00      0.67         1\n",
      "    180000.0       1.00      0.90      0.95        10\n",
      "    185000.0       1.00      1.00      1.00         6\n",
      "    190000.0       0.67      1.00      0.80         4\n",
      "    200000.0       1.00      1.00      1.00         4\n",
      "    220000.0       1.00      1.00      1.00         4\n",
      "    250000.0       0.88      1.00      0.93         7\n",
      "\n",
      "    accuracy                           0.91       182\n",
      "   macro avg       0.89      0.90      0.88       182\n",
      "weighted avg       0.92      0.91      0.91       182\n",
      " \n",
      "\n",
      "Random forest classifier accuracy score: 0.9065934065934066\n",
      "\n",
      "RMSE: 7186.678763403276\n",
      "\n",
      "R2: 0.985116437688785\n"
     ]
    }
   ],
   "source": [
    "from sklearn.ensemble import RandomForestClassifier\n",
    "from sklearn.svm import SVC\n",
    "from sklearn.metrics import classification_report\n",
    "from sklearn.metrics import confusion_matrix\n",
    "from sklearn.metrics import mean_squared_error\n",
    "from sklearn.metrics import r2_score\n",
    "\n",
    "# Random forest classifier\n",
    "rfc = RandomForestClassifier()\n",
    "rfc.fit(X_train, y_train)\n",
    "rfc_score = rfc.score(X_test, y_test)\n",
    "y_pred = rfc.predict(X_test)\n",
    "report = classification_report(y_test, y_pred)\n",
    "rmse = np.sqrt(mean_squared_error(y_test,y_pred))\n",
    "r2 = r2_score(y_test,y_pred)\n",
    "print(report,\"\\n\")\n",
    "print(f\"Random forest classifier accuracy score: {rfc_score}\\n\")\n",
    "print(f\"RMSE: {rmse}\\n\")\n",
    "print(f\"R2: {r2}\")"
   ]
  },
  {
   "cell_type": "markdown",
   "id": "2bf259e4",
   "metadata": {},
   "source": [
    "The code trains a RandomForestClassifier model on the training data and evaluates its performance on the test data using accuracy score. The predicted values are obtained and two regression metrics, RMSE and R2, are calculated to evaluate the performance of the model. The accuracy score of the model on the test data is 0.901, with an RMSE of 4493.58 and an R2 of 0.994, indicating that the model is performing well in predicting the target variable."
   ]
  },
  {
   "cell_type": "markdown",
   "id": "b1886964",
   "metadata": {},
   "source": [
    "## HyperParameter tuning"
   ]
  },
  {
   "cell_type": "code",
   "execution_count": 28,
   "id": "ae9a9e79",
   "metadata": {
    "scrolled": true
   },
   "outputs": [
    {
     "name": "stdout",
     "output_type": "stream",
     "text": [
      "              precision    recall  f1-score   support\n",
      "\n",
      "     30000.0       0.92      1.00      0.96        12\n",
      "     35000.0       0.83      0.83      0.83         6\n",
      "     40000.0       0.75      0.75      0.75         4\n",
      "     45000.0       0.80      1.00      0.89         4\n",
      "     50000.0       0.83      0.71      0.77         7\n",
      "     55000.0       0.83      1.00      0.91         5\n",
      "     60000.0       1.00      0.75      0.86         4\n",
      "     65000.0       1.00      1.00      1.00         5\n",
      "     70000.0       1.00      0.83      0.91         6\n",
      "     75000.0       1.00      1.00      1.00         4\n",
      "     80000.0       0.50      1.00      0.67         1\n",
      "     85000.0       1.00      1.00      1.00        10\n",
      "     90000.0       0.80      1.00      0.89         4\n",
      "     95000.0       1.00      0.50      0.67         2\n",
      "    100000.0       1.00      0.88      0.93         8\n",
      "    105000.0       0.83      1.00      0.91         5\n",
      "    110000.0       0.60      0.60      0.60         5\n",
      "    115000.0       1.00      1.00      1.00         3\n",
      "    120000.0       0.50      0.50      0.50         4\n",
      "    125000.0       1.00      1.00      1.00         6\n",
      "    130000.0       1.00      0.75      0.86         4\n",
      "    135000.0       0.60      1.00      0.75         3\n",
      "    140000.0       0.75      0.60      0.67         5\n",
      "    145000.0       1.00      1.00      1.00         4\n",
      "    150000.0       1.00      0.83      0.91         6\n",
      "    155000.0       1.00      1.00      1.00         6\n",
      "    160000.0       1.00      0.83      0.91         6\n",
      "    170000.0       1.00      0.71      0.83         7\n",
      "    175000.0       1.00      1.00      1.00         1\n",
      "    180000.0       0.90      0.90      0.90        10\n",
      "    185000.0       1.00      1.00      1.00         6\n",
      "    190000.0       0.67      1.00      0.80         4\n",
      "    200000.0       1.00      1.00      1.00         4\n",
      "    220000.0       1.00      1.00      1.00         4\n",
      "    250000.0       0.88      1.00      0.93         7\n",
      "\n",
      "    accuracy                           0.89       182\n",
      "   macro avg       0.89      0.89      0.87       182\n",
      "weighted avg       0.90      0.89      0.89       182\n",
      " \n",
      "\n",
      "Random forest classifier accuracy score: 0.8901098901098901\n",
      "\n",
      "RMSE: 6833.981028894996\n",
      "\n",
      "R2: 0.9865414596121992\n",
      "\n",
      "Best hyperparameters for Random Forest Classifier:  {'max_depth': 30, 'min_samples_split': 2, 'n_estimators': 100}\n"
     ]
    }
   ],
   "source": [
    "from sklearn.ensemble import RandomForestClassifier\n",
    "from sklearn.svm import SVC\n",
    "from sklearn.metrics import classification_report\n",
    "from sklearn.metrics import confusion_matrix\n",
    "from sklearn.metrics import mean_squared_error\n",
    "from sklearn.metrics import r2_score\n",
    "from sklearn.model_selection import GridSearchCV\n",
    "\n",
    "# Define the parameter grid for Random Forest Classifier\n",
    "rfc_param_grid = {'n_estimators': [100, 200, 300], 'max_depth': [10, 20, 30], 'min_samples_split': [2, 5, 10]}\n",
    "\n",
    "# Create an instance of the Random Forest Classifier\n",
    "rfc = RandomForestClassifier()\n",
    "\n",
    "# Create an instance of GridSearchCV for Random Forest Classifier\n",
    "rfc_grid_search = GridSearchCV(rfc, rfc_param_grid, cv=5)\n",
    "\n",
    "# Fit the GridSearchCV instance to the training data for Random Forest Classifier\n",
    "rfc_grid_search.fit(X_train, y_train)\n",
    "\n",
    "# Get the best hyperparameters and score for Random Forest Classifier\n",
    "rfc_best_params = rfc_grid_search.best_params_\n",
    "rfc_best_score = rfc_grid_search.best_score_\n",
    "\n",
    "# Train a new Random Forest Classifier with the best hyperparameters\n",
    "rfc = RandomForestClassifier(**rfc_best_params)\n",
    "rfc.fit(X_train, y_train)\n",
    "rfc_score = rfc.score(X_test, y_test)\n",
    "y_pred = rfc.predict(X_test)\n",
    "report = classification_report(y_test, y_pred)\n",
    "rmse = np.sqrt(mean_squared_error(y_test,y_pred))\n",
    "r2 = r2_score(y_test,y_pred)\n",
    "print(report,\"\\n\")\n",
    "print(f\"Random forest classifier accuracy score: {rfc_score}\\n\")\n",
    "print(f\"RMSE: {rmse}\\n\")\n",
    "print(f\"R2: {r2}\\n\")\n",
    "print(\"Best hyperparameters for Random Forest Classifier: \", rfc_best_params)"
   ]
  },
  {
   "cell_type": "markdown",
   "id": "3c385628",
   "metadata": {},
   "source": [
    "This Python code trains a Random Forest Classifier model to predict a target variable using a dataset split into training and test sets.\n",
    "\n",
    "The first few lines define a parameter grid for the Random Forest Classifier, which is a set of hyperparameters that the model will be trained on. The hyperparameters are n_estimators (number of decision trees in the forest), min_samples_split and max_depth (maximum depth of the decision trees).\n",
    "\n",
    "The GridSearchCV function from scikit-learn is then used to find the best hyperparameters for the Random Forest Classifier model using a 5-fold cross-validation on the training set.\n",
    "\n",
    "The best hyperparameters and score are then extracted from the GridSearchCV results and used to train a new Random Forest Classifier model on the entire training set. The accuracy score, RMSE and R2 score are computed for the new model on the test set, and the classification report is printed out.\n",
    "\n",
    "The output shows the precision, recall, and F1-score for each class in the target variable, as well as the support (number of samples) for each class. The accuracy score, RMSE, and R2 score for the model are also printed, along with the best hyperparameters found by GridSearchCV."
   ]
  },
  {
   "cell_type": "markdown",
   "id": "eab0e298",
   "metadata": {},
   "source": [
    "## Model 2: SVC (Support Vector Classifier)"
   ]
  },
  {
   "cell_type": "code",
   "execution_count": 29,
   "id": "cd8eb277",
   "metadata": {
    "scrolled": true
   },
   "outputs": [
    {
     "name": "stdout",
     "output_type": "stream",
     "text": [
      "              precision    recall  f1-score   support\n",
      "\n",
      "     30000.0       0.00      0.00      0.00        12\n",
      "     35000.0       0.21      0.83      0.33         6\n",
      "     40000.0       0.00      0.00      0.00         4\n",
      "     45000.0       0.50      0.25      0.33         4\n",
      "     50000.0       0.00      0.00      0.00         7\n",
      "     55000.0       0.50      0.20      0.29         5\n",
      "     60000.0       0.27      1.00      0.42         4\n",
      "     65000.0       0.00      0.00      0.00         5\n",
      "     70000.0       0.50      0.67      0.57         6\n",
      "     75000.0       1.00      0.25      0.40         4\n",
      "     80000.0       0.17      1.00      0.29         1\n",
      "     85000.0       0.56      0.50      0.53        10\n",
      "     90000.0       0.00      0.00      0.00         4\n",
      "     95000.0       0.12      0.50      0.20         2\n",
      "    100000.0       0.00      0.00      0.00         8\n",
      "    105000.0       0.12      0.20      0.15         5\n",
      "    110000.0       0.00      0.00      0.00         5\n",
      "    115000.0       0.50      0.67      0.57         3\n",
      "    120000.0       0.25      0.25      0.25         4\n",
      "    125000.0       0.46      1.00      0.63         6\n",
      "    130000.0       0.00      0.00      0.00         4\n",
      "    135000.0       0.75      1.00      0.86         3\n",
      "    140000.0       0.00      0.00      0.00         5\n",
      "    145000.0       0.40      1.00      0.57         4\n",
      "    150000.0       0.00      0.00      0.00         6\n",
      "    155000.0       0.43      1.00      0.60         6\n",
      "    160000.0       0.00      0.00      0.00         6\n",
      "    170000.0       1.00      0.57      0.73         7\n",
      "    175000.0       0.50      1.00      0.67         1\n",
      "    180000.0       0.67      0.40      0.50        10\n",
      "    185000.0       0.86      1.00      0.92         6\n",
      "    190000.0       0.33      0.25      0.29         4\n",
      "    200000.0       0.57      1.00      0.73         4\n",
      "    220000.0       1.00      1.00      1.00         4\n",
      "    250000.0       0.88      1.00      0.93         7\n",
      "\n",
      "    accuracy                           0.42       182\n",
      "   macro avg       0.36      0.47      0.36       182\n",
      "weighted avg       0.36      0.42      0.35       182\n",
      " \n",
      "\n",
      "SVC classifier accuracy score: 0.4230769230769231\n",
      "\n",
      "RMSE: 12870.871790960418\n",
      "\n",
      "R2: 0.952261765565624\n",
      "\n"
     ]
    }
   ],
   "source": [
    "# SVC classifier\n",
    "svc = SVC()\n",
    "svc.fit(X_train, y_train)\n",
    "svc_score = svc.score(X_test, y_test)\n",
    "y_pred = svc.predict(X_test)\n",
    "report = classification_report(y_test, y_pred)\n",
    "print(report,\"\\n\")\n",
    "rmse = np.sqrt(mean_squared_error(y_test,y_pred))\n",
    "r2 = r2_score(y_test,y_pred)\n",
    "print(f\"SVC classifier accuracy score: {svc_score}\\n\")\n",
    "print(f\"RMSE: {rmse}\\n\")\n",
    "print(f\"R2: {r2}\\n\")"
   ]
  },
  {
   "cell_type": "markdown",
   "id": "c01f2d31",
   "metadata": {},
   "source": [
    "This code uses SVM algorithm to predict a dependent variable based on independent variables. The model is fitted using training data and evaluated using test data. The classification_report function generates a report on classification performance including precision, recall, f1-score and support for each class. The accuracy of the model is given by svc_score, and RMSE and R2 score are calculated and printed. The code provides an evaluation of the model's effectiveness."
   ]
  },
  {
   "cell_type": "markdown",
   "id": "09234c20",
   "metadata": {},
   "source": [
    "## HyperParameter tuning"
   ]
  },
  {
   "cell_type": "code",
   "execution_count": 30,
   "id": "98a2f750",
   "metadata": {
    "scrolled": true
   },
   "outputs": [
    {
     "name": "stdout",
     "output_type": "stream",
     "text": [
      "SVC classifier score: 0.7362637362637363\n",
      "              precision    recall  f1-score   support\n",
      "\n",
      "     30000.0       0.92      1.00      0.96        12\n",
      "     35000.0       0.67      0.67      0.67         6\n",
      "     40000.0       0.50      0.50      0.50         4\n",
      "     45000.0       0.40      0.50      0.44         4\n",
      "     50000.0       1.00      0.29      0.44         7\n",
      "     55000.0       0.57      0.80      0.67         5\n",
      "     60000.0       0.57      1.00      0.73         4\n",
      "     65000.0       0.80      0.80      0.80         5\n",
      "     70000.0       1.00      0.67      0.80         6\n",
      "     75000.0       1.00      1.00      1.00         4\n",
      "     80000.0       0.50      1.00      0.67         1\n",
      "     85000.0       0.91      1.00      0.95        10\n",
      "     90000.0       0.50      0.50      0.50         4\n",
      "     95000.0       0.25      0.50      0.33         2\n",
      "    100000.0       1.00      0.25      0.40         8\n",
      "    105000.0       0.83      1.00      0.91         5\n",
      "    110000.0       0.67      0.40      0.50         5\n",
      "    115000.0       0.50      1.00      0.67         3\n",
      "    120000.0       0.40      0.50      0.44         4\n",
      "    125000.0       0.86      1.00      0.92         6\n",
      "    130000.0       1.00      0.25      0.40         4\n",
      "    135000.0       0.75      1.00      0.86         3\n",
      "    140000.0       0.60      0.60      0.60         5\n",
      "    145000.0       0.50      1.00      0.67         4\n",
      "    150000.0       1.00      0.33      0.50         6\n",
      "    155000.0       1.00      1.00      1.00         6\n",
      "    160000.0       0.38      0.50      0.43         6\n",
      "    170000.0       0.71      0.71      0.71         7\n",
      "    175000.0       1.00      1.00      1.00         1\n",
      "    180000.0       0.88      0.70      0.78        10\n",
      "    185000.0       0.86      1.00      0.92         6\n",
      "    190000.0       1.00      0.50      0.67         4\n",
      "    200000.0       1.00      1.00      1.00         4\n",
      "    220000.0       1.00      1.00      1.00         4\n",
      "    250000.0       0.88      1.00      0.93         7\n",
      "\n",
      "    accuracy                           0.74       182\n",
      "   macro avg       0.75      0.74      0.71       182\n",
      "weighted avg       0.79      0.74      0.72       182\n",
      " \n",
      "\n",
      "SVC classifier accuracy score: 0.7362637362637363\n",
      "\n",
      "RMSE: 12870.871790960418\n",
      "\n",
      "R2: 0.952261765565624\n",
      "\n",
      "Best hyperparameters for Random Forest Classifier:  {'max_depth': 30, 'min_samples_split': 2, 'n_estimators': 100}\n"
     ]
    }
   ],
   "source": [
    "from sklearn.svm import SVC\n",
    "from sklearn.metrics import classification_report\n",
    "from sklearn.model_selection import GridSearchCV\n",
    "\n",
    "# Define the hyper parameter grid\n",
    "param_grid = {'C': [1, 10, 100], 'gamma': [0.1, 0.01, 0.001], 'kernel': ['rbf']}\n",
    "\n",
    "# Create an instance of the SVC classifier\n",
    "svc = SVC(random_state=42)\n",
    "\n",
    "# Create an instance of GridSearchCV\n",
    "grid_search = GridSearchCV(svc, param_grid, cv=5)\n",
    "\n",
    "# Fit the GridSearchCV instance to the training data\n",
    "grid_search.fit(X_train, y_train)\n",
    "\n",
    "# Get the best hyperparameters and score\n",
    "best_params = grid_search.best_params_\n",
    "best_score = grid_search.best_score_\n",
    "\n",
    "# Train a new SVC classifier with the best hyperparameters\n",
    "svc = SVC(**best_params, random_state=42)\n",
    "svc.fit(X_train, y_train)\n",
    "svc_score = svc.score(X_test, y_test)\n",
    "print(f\"SVC classifier score: {svc_score}\")\n",
    "y_pred = svc.predict(X_test)\n",
    "report = classification_report(y_test, y_pred)\n",
    "print(report,\"\\n\")\n",
    "print(f\"SVC classifier accuracy score: {svc_score}\\n\")\n",
    "print(f\"RMSE: {rmse}\\n\")\n",
    "print(f\"R2: {r2}\\n\")\n",
    "print(\"Best hyperparameters for Random Forest Classifier: \", rfc_best_params)"
   ]
  },
  {
   "cell_type": "markdown",
   "id": "cf3fc1df",
   "metadata": {},
   "source": [
    "This code uses GridSearchCV to find the best hyperparameters for a Support Vector Classifier (SVC), trains a new SVC classifier with those hyperparameters, and evaluates its performance on a test set. It prints the accuracy score and classification report for the test set. The output displays the accuracy score and classification report."
   ]
  },
  {
   "cell_type": "markdown",
   "id": "22450679",
   "metadata": {},
   "source": [
    "## Model 3: Decision Tree"
   ]
  },
  {
   "cell_type": "code",
   "execution_count": 30,
   "id": "da1a7c3e",
   "metadata": {},
   "outputs": [
    {
     "name": "stdout",
     "output_type": "stream",
     "text": [
      "              precision    recall  f1-score   support\n",
      "\n",
      "     30000.0       0.92      1.00      0.96        12\n",
      "     35000.0       0.83      0.83      0.83         6\n",
      "     40000.0       1.00      0.75      0.86         4\n",
      "     45000.0       1.00      1.00      1.00         4\n",
      "     50000.0       0.88      1.00      0.93         7\n",
      "     55000.0       1.00      1.00      1.00         5\n",
      "     60000.0       1.00      0.75      0.86         4\n",
      "     65000.0       1.00      1.00      1.00         5\n",
      "     70000.0       0.83      0.83      0.83         6\n",
      "     75000.0       1.00      1.00      1.00         4\n",
      "     80000.0       0.50      1.00      0.67         1\n",
      "     85000.0       1.00      1.00      1.00        10\n",
      "     90000.0       1.00      1.00      1.00         4\n",
      "     95000.0       1.00      0.50      0.67         2\n",
      "    100000.0       1.00      0.88      0.93         8\n",
      "    105000.0       1.00      1.00      1.00         5\n",
      "    110000.0       0.80      0.80      0.80         5\n",
      "    115000.0       1.00      1.00      1.00         3\n",
      "    120000.0       0.50      0.50      0.50         4\n",
      "    125000.0       0.86      1.00      0.92         6\n",
      "    130000.0       0.67      1.00      0.80         4\n",
      "    135000.0       1.00      1.00      1.00         3\n",
      "    140000.0       1.00      0.60      0.75         5\n",
      "    145000.0       1.00      1.00      1.00         4\n",
      "    150000.0       1.00      1.00      1.00         6\n",
      "    155000.0       1.00      1.00      1.00         6\n",
      "    160000.0       0.71      0.83      0.77         6\n",
      "    170000.0       0.83      0.71      0.77         7\n",
      "    175000.0       1.00      1.00      1.00         1\n",
      "    180000.0       0.80      0.80      0.80        10\n",
      "    185000.0       1.00      1.00      1.00         6\n",
      "    190000.0       1.00      1.00      1.00         4\n",
      "    200000.0       1.00      1.00      1.00         4\n",
      "    220000.0       1.00      1.00      1.00         4\n",
      "    250000.0       1.00      1.00      1.00         7\n",
      "\n",
      "    accuracy                           0.91       182\n",
      "   macro avg       0.92      0.91      0.90       182\n",
      "weighted avg       0.92      0.91      0.91       182\n",
      " \n",
      "\n",
      "Decision tree classifier accuracy score: 0.9120879120879121\n",
      "\n",
      "RMSE: 4258.1531362632\n",
      "\n",
      "R2: 0.9947749196141479\n",
      "\n"
     ]
    }
   ],
   "source": [
    "from sklearn.tree import DecisionTreeClassifier\n",
    "from sklearn.metrics import classification_report\n",
    "from sklearn.metrics import confusion_matrix\n",
    "from sklearn.metrics import mean_squared_error\n",
    "from sklearn.metrics import r2_score\n",
    "\n",
    "# Decision tree classifier\n",
    "dtc = DecisionTreeClassifier()\n",
    "dtc.fit(X_train, y_train)\n",
    "dtc_score = dtc.score(X_test, y_test)\n",
    "y_pred = dtc.predict(X_test)\n",
    "report = classification_report(y_test, y_pred)\n",
    "rmse = np.sqrt(mean_squared_error(y_test,y_pred))\n",
    "r2 = r2_score(y_test,y_pred)\n",
    "print(report,\"\\n\")\n",
    "print(f\"Decision tree classifier accuracy score: {dtc_score}\\n\")\n",
    "print(f\"RMSE: {rmse}\\n\")\n",
    "print(f\"R2: {r2}\\n\")"
   ]
  },
  {
   "cell_type": "markdown",
   "id": "67af10a2",
   "metadata": {},
   "source": [
    "The output shows the performance metrics of a decision tree classifier for our dataset. The classifier predicts the salary range (in thousands) of a job based on other features. The precision, recall, and f1-score are reported for each salary range, along with the support (number of instances) in each range. The overall accuracy of the classifier is 0.912, and the RMSE and R2 values are reported as well. The macro and weighted average of precision, recall, and f1-score are also provided."
   ]
  },
  {
   "cell_type": "markdown",
   "id": "ec69436e",
   "metadata": {},
   "source": [
    "## Hyperparameter Tuning"
   ]
  },
  {
   "cell_type": "code",
   "execution_count": 32,
   "id": "d354c9b9",
   "metadata": {},
   "outputs": [
    {
     "name": "stdout",
     "output_type": "stream",
     "text": [
      "              precision    recall  f1-score   support\n",
      "\n",
      "     30000.0       0.92      1.00      0.96        12\n",
      "     35000.0       0.83      0.83      0.83         6\n",
      "     40000.0       1.00      0.75      0.86         4\n",
      "     45000.0       1.00      0.75      0.86         4\n",
      "     50000.0       0.75      0.86      0.80         7\n",
      "     55000.0       1.00      1.00      1.00         5\n",
      "     60000.0       0.75      0.75      0.75         4\n",
      "     65000.0       1.00      1.00      1.00         5\n",
      "     70000.0       0.83      0.83      0.83         6\n",
      "     75000.0       1.00      1.00      1.00         4\n",
      "     80000.0       0.50      1.00      0.67         1\n",
      "     85000.0       1.00      1.00      1.00        10\n",
      "     90000.0       0.80      1.00      0.89         4\n",
      "     95000.0       1.00      0.50      0.67         2\n",
      "    100000.0       0.88      0.88      0.88         8\n",
      "    105000.0       0.83      1.00      0.91         5\n",
      "    110000.0       1.00      0.80      0.89         5\n",
      "    115000.0       1.00      1.00      1.00         3\n",
      "    120000.0       1.00      0.25      0.40         4\n",
      "    125000.0       1.00      1.00      1.00         6\n",
      "    130000.0       0.75      0.75      0.75         4\n",
      "    135000.0       0.75      1.00      0.86         3\n",
      "    140000.0       0.80      0.80      0.80         5\n",
      "    145000.0       1.00      1.00      1.00         4\n",
      "    150000.0       0.86      1.00      0.92         6\n",
      "    155000.0       1.00      1.00      1.00         6\n",
      "    160000.0       0.67      1.00      0.80         6\n",
      "    170000.0       1.00      0.57      0.73         7\n",
      "    175000.0       1.00      1.00      1.00         1\n",
      "    180000.0       0.88      0.70      0.78        10\n",
      "    185000.0       1.00      1.00      1.00         6\n",
      "    190000.0       1.00      1.00      1.00         4\n",
      "    200000.0       1.00      1.00      1.00         4\n",
      "    220000.0       1.00      1.00      1.00         4\n",
      "    250000.0       0.78      1.00      0.88         7\n",
      "\n",
      "    accuracy                           0.89       182\n",
      "   macro avg       0.90      0.89      0.88       182\n",
      "weighted avg       0.91      0.89      0.88       182\n",
      " \n",
      "\n",
      "Decision tree classifier accuracy score: 0.8901098901098901\n",
      "\n",
      "RMSE: 8941.199860480412\n",
      "\n",
      "R2: 0.9769621455714703\n",
      "\n",
      "Best hyperparameters found by GridSearchCV:\n",
      "{'criterion': 'entropy', 'max_depth': 11, 'min_samples_leaf': 1, 'min_samples_split': 2}\n"
     ]
    }
   ],
   "source": [
    "from sklearn.tree import DecisionTreeClassifier\n",
    "from sklearn.metrics import classification_report\n",
    "from sklearn.metrics import confusion_matrix\n",
    "from sklearn.metrics import mean_squared_error\n",
    "from sklearn.metrics import r2_score\n",
    "from sklearn.model_selection import GridSearchCV\n",
    "\n",
    "# Define the hyperparameters to tune\n",
    "param_grid = {\n",
    "    'criterion': ['gini', 'entropy'],\n",
    "    'max_depth': [3, 5, 7, 9, 11],\n",
    "    'min_samples_split': [2, 5, 10],\n",
    "    'min_samples_leaf': [1, 2, 4]\n",
    "}\n",
    "\n",
    "# Create a Decision Tree Classifier object\n",
    "dtc = DecisionTreeClassifier()\n",
    "\n",
    "# Create a GridSearchCV object with the Decision Tree Classifier and hyperparameters\n",
    "grid_search = GridSearchCV(dtc, param_grid, cv=5)\n",
    "\n",
    "# Fit the GridSearchCV object to the training data\n",
    "grid_search.fit(X_train, y_train)\n",
    "\n",
    "# Calculate the accuracy score of the best estimator on the test data\n",
    "dtc_score = grid_search.best_estimator_.score(X_test, y_test)\n",
    "\n",
    "# Make predictions on the test data using the best estimator\n",
    "y_pred = grid_search.best_estimator_.predict(X_test)\n",
    "\n",
    "# Generate a classification report to evaluate the performance of the best estimator\n",
    "report = classification_report(y_test, y_pred)\n",
    "\n",
    "# Calculate the RMSE and R2 values to evaluate the regression performance of the best estimator\n",
    "rmse = np.sqrt(mean_squared_error(y_test, y_pred))\n",
    "r2 = r2_score(y_test, y_pred)\n",
    "\n",
    "# Print the classification report, accuracy score, RMSE, and R2 values\n",
    "print(report,\"\\n\")\n",
    "print(f\"Decision tree classifier accuracy score: {dtc_score}\\n\")\n",
    "print(f\"RMSE: {rmse}\\n\")\n",
    "print(f\"R2: {r2}\\n\")\n",
    "# Print the best hyperparameters found by GridSearchCV\n",
    "print(\"Best hyperparameters found by GridSearchCV:\")\n",
    "print(grid_search.best_params_)"
   ]
  },
  {
   "cell_type": "markdown",
   "id": "68bff4b9",
   "metadata": {},
   "source": [
    "This is a report on the performance of a decision tree classifier model. The dataset is divided into classes representing different salary ranges. Precision, recall, and F1-score metrics are calculated for each class along with the number of instances (support). The macro-average and weighted-average of these metrics are also provided. The model's accuracy is given at the bottom. The RMSE and R2 score are also reported. Hyperparameters used for training are displayed, which were tuned using GridSearchCV to find the best combination. The best hyperparameters found were {'criterion': 'entropy', 'max_depth': 11, 'min_samples_leaf': 1, 'min_samples_split': 2}, and can be adjusted for better performance."
   ]
  },
  {
   "cell_type": "markdown",
   "id": "35823486",
   "metadata": {},
   "source": [
    "# Test results - Conclusion\n",
    "\n",
    "In this study, we evaluated the performance of three different classification models: Random Forest, SVC, and Decision Tree, to predict salary based on experience, age, job title, gender, and education.\n",
    "\n",
    "Based on the evaluation, the Random Forest Classifier appears to be the most preferable model for the given dataset. The model achieved the highest accuracy score of 0.8901, which indicates that it can correctly predict the salary for approximately 89.01% of the data. Additionally, the Random Forest model achieved the lowest RMSE of 6833.98, which indicates that, on average, the predicted salary is approximately 6833.98 away from the actual salary. Moreover, the model achieved the highest R2 score of 0.9866, which suggests that the Random Forest model explains approximately 98.66% of the variance in the data.\n",
    "\n",
    "These results indicate that the Random Forest model is capable of accurately predicting salary based on the available features."
   ]
  }
 ],
 "metadata": {
  "kernelspec": {
   "display_name": "Python 3 (ipykernel)",
   "language": "python",
   "name": "python3"
  },
  "language_info": {
   "codemirror_mode": {
    "name": "ipython",
    "version": 3
   },
   "file_extension": ".py",
   "mimetype": "text/x-python",
   "name": "python",
   "nbconvert_exporter": "python",
   "pygments_lexer": "ipython3",
   "version": "3.9.12"
  }
 },
 "nbformat": 4,
 "nbformat_minor": 5
}
